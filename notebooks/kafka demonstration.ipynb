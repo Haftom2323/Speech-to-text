{
 "cells": [
  {
   "cell_type": "code",
   "execution_count": 1,
   "metadata": {},
   "outputs": [],
   "source": [
    "from kafka.admin import KafkaAdminClient, NewTopic\n",
    "from kafka.cluster import ClusterMetadata\n",
    "from kafka import KafkaProducer, KafkaConsumer\n",
    "from json import dumps\n",
    "from time import sleep\n",
    "from kafka import KafkaConsumer\n",
    "from json import loads, dumps"
   ]
  },
  {
   "cell_type": "code",
   "execution_count": 2,
   "metadata": {},
   "outputs": [],
   "source": [
    "producer = KafkaProducer(bootstrap_servers=['b-1.demo-cluster-1.9q7lp7.c1.kafka.eu-west-1.amazonaws.com:9092',\n",
    "                                            'b-2.demo-cluster-1.9q7lp7.c1.kafka.eu-west-1.amazonaws.com:9092'],\n",
    "                         value_serializer=lambda x: \n",
    "                         dumps(x).encode('utf-8'))"
   ]
  },
  {
   "cell_type": "code",
   "execution_count": 3,
   "metadata": {},
   "outputs": [],
   "source": [
    "for e in range(20):\n",
    "    data = {'number' : e}\n",
    "    future = producer.send('text_topic', value=data)"
   ]
  },
  {
   "cell_type": "code",
   "execution_count": 4,
   "metadata": {},
   "outputs": [],
   "source": [
    "record_metadata = future.get(timeout=10)"
   ]
  },
  {
   "cell_type": "code",
   "execution_count": 5,
   "metadata": {},
   "outputs": [
    {
     "name": "stdout",
     "output_type": "stream",
     "text": [
      "text_topic\n",
      "0\n",
      "255\n"
     ]
    }
   ],
   "source": [
    "print (record_metadata.topic)\n",
    "print (record_metadata.partition)\n",
    "print (record_metadata.offset)"
   ]
  },
  {
   "cell_type": "code",
   "execution_count": 6,
   "metadata": {},
   "outputs": [],
   "source": [
    "consumer = KafkaConsumer(\n",
    "    'text_topic',\n",
    "     bootstrap_servers=['b-1.demo-cluster-1.9q7lp7.c1.kafka.eu-west-1.amazonaws.com:9092',\n",
    "                        'b-2.demo-cluster-1.9q7lp7.c1.kafka.eu-west-1.amazonaws.com:9092'],\n",
    "     auto_offset_reset='earliest',\n",
    "     enable_auto_commit=True,\n",
    "     group_id='text-corpus-reader',\n",
    "     value_deserializer=lambda x: loads(x.decode('utf-8')))"
   ]
  },
  {
   "cell_type": "code",
   "execution_count": 7,
   "metadata": {},
   "outputs": [
    {
     "name": "stdout",
     "output_type": "stream",
     "text": [
      "text_topic:0:236: key=None value={'number': 0}\n",
      "text_topic:0:237: key=None value={'number': 1}\n",
      "text_topic:0:238: key=None value={'number': 2}\n",
      "text_topic:0:239: key=None value={'number': 3}\n",
      "text_topic:0:240: key=None value={'number': 4}\n",
      "text_topic:0:241: key=None value={'number': 5}\n",
      "text_topic:0:242: key=None value={'number': 6}\n",
      "text_topic:0:243: key=None value={'number': 7}\n",
      "text_topic:0:244: key=None value={'number': 8}\n",
      "text_topic:0:245: key=None value={'number': 9}\n",
      "text_topic:0:246: key=None value={'number': 10}\n",
      "text_topic:0:247: key=None value={'number': 11}\n",
      "text_topic:0:248: key=None value={'number': 12}\n",
      "text_topic:0:249: key=None value={'number': 13}\n",
      "text_topic:0:250: key=None value={'number': 14}\n",
      "text_topic:0:251: key=None value={'number': 15}\n",
      "text_topic:0:252: key=None value={'number': 16}\n",
      "text_topic:0:253: key=None value={'number': 17}\n",
      "text_topic:0:254: key=None value={'number': 18}\n",
      "text_topic:0:255: key=None value={'number': 19}\n"
     ]
    }
   ],
   "source": [
    "for message in consumer:\n",
    "    # message value and key are raw bytes -- decode if necessary!\n",
    "    # e.g., for unicode: `message.value.decode('utf-8')`\n",
    "    print (\"%s:%d:%d: key=%s value=%s\" % (message.topic, message.partition,\n",
    "                                          message.offset, message.key,\n",
    "                                          message.value))"
   ]
  }
 ],
 "metadata": {
  "interpreter": {
   "hash": "916dbcbb3f70747c44a77c7bcd40155683ae19c65e1c03b4aa3499c5328201f1"
  },
  "kernelspec": {
   "display_name": "Python 3.7.10 64-bit",
   "name": "python3"
  },
  "language_info": {
   "codemirror_mode": {
    "name": "ipython",
    "version": 3
   },
   "file_extension": ".py",
   "mimetype": "text/x-python",
   "name": "python",
   "nbconvert_exporter": "python",
   "pygments_lexer": "ipython3",
   "version": "3.7.10"
  },
  "orig_nbformat": 4
 },
 "nbformat": 4,
 "nbformat_minor": 2
}